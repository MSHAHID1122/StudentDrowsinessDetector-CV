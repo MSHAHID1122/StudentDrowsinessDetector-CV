{
 "cells": [
  {
   "cell_type": "code",
   "execution_count": 1,
   "id": "11f00a53",
   "metadata": {},
   "outputs": [],
   "source": [
    "import cv2\n",
    "import numpy as np\n",
    "from keras.models import load_model\n",
    "from keras.preprocessing.image import img_to_array\n",
    "import time"
   ]
  },
  {
   "cell_type": "code",
   "execution_count": 2,
   "id": "43cf74d3",
   "metadata": {},
   "outputs": [
    {
     "name": "stderr",
     "output_type": "stream",
     "text": [
      "WARNING:absl:Compiled the loaded model, but the compiled metrics have yet to be built. `model.compile_metrics` will be empty until you train or evaluate the model.\n"
     ]
    }
   ],
   "source": [
    "model = load_model('drowsiness_model.h5')  # adjust filename if different"
   ]
  },
  {
   "cell_type": "code",
   "execution_count": 3,
   "id": "3b7e8afa",
   "metadata": {},
   "outputs": [],
   "source": [
    "eye_cascade = cv2.CascadeClassifier(cv2.data.haarcascades + 'haarcascade_eye.xml')"
   ]
  },
  {
   "cell_type": "code",
   "execution_count": 11,
   "id": "783c01c2",
   "metadata": {},
   "outputs": [],
   "source": [
    "cap = cv2.VideoCapture(0)\n",
    "closed_eyes_counter = 0\n",
    "threshold = 40  # adjust depending on frame rate"
   ]
  },
  {
   "cell_type": "code",
   "execution_count": 13,
   "id": "3ec51ba0",
   "metadata": {},
   "outputs": [],
   "source": [
    "while True:\n",
    "    ret, frame = cap.read()\n",
    "    if not ret:\n",
    "        break\n",
    "\n",
    "    gray_frame = cv2.cvtColor(frame, cv2.COLOR_BGR2GRAY)\n",
    "    eyes = eye_cascade.detectMultiScale(gray_frame, scaleFactor=1.1, minNeighbors=6)\n",
    "\n",
    "    for (ex, ey, ew, eh) in eyes:\n",
    "        eye = gray_frame[ey:ey+eh, ex:ex+ew]\n",
    "        \n",
    "        # Fix 2: Resize to 48x48 to match model's input shape\n",
    "        eye = cv2.resize(eye, (48, 48))  # Changed from 24x24\n",
    "        \n",
    "        # Fix 3: Ensure correct channel dimension\n",
    "        eye = eye.astype(\"float32\") / 255.0\n",
    "        eye = np.expand_dims(eye, axis=-1)  # Add channel dimension (48,48,1)\n",
    "        eye = np.expand_dims(eye, axis=0)   # Add batch dimension (1,48,48,1)\n",
    "\n",
    "        prediction = model.predict(eye, verbose=0)[0]\n",
    "        open_prob = prediction[1]\n",
    "        label = \"Open\" if open_prob > 0.4 else \"Closed\"\n",
    "\n",
    "        # Drowsiness logic\n",
    "        if label == \"Closed\":\n",
    "            closed_eyes_counter += 1\n",
    "        else:\n",
    "            closed_eyes_counter = 0\n",
    "\n",
    "        if closed_eyes_counter >= threshold:\n",
    "            cv2.putText(frame, \"DROWSINESS ALERT!\", (10, 30),\n",
    "                        cv2.FONT_HERSHEY_SIMPLEX, 1, (0, 0, 255), 3)\n",
    "\n",
    "        # Draw annotations\n",
    "        color = (0, 255, 0) if label == \"Open\" else (0, 0, 255)\n",
    "        cv2.rectangle(frame, (ex, ey), (ex+ew, ey+eh), color, 2)\n",
    "        cv2.putText(frame, label, (ex, ey-10),\n",
    "                    cv2.FONT_HERSHEY_SIMPLEX, 0.7, color, 2)\n",
    "\n",
    "    cv2.imshow(\"Drowsiness Detection\", frame)\n",
    "    if cv2.waitKey(1) & 0xFF == ord('q'):\n",
    "        break\n",
    "\n",
    "cap.release()\n",
    "cv2.destroyAllWindows()"
   ]
  }
 ],
 "metadata": {
  "kernelspec": {
   "display_name": "venv",
   "language": "python",
   "name": "python3"
  },
  "language_info": {
   "codemirror_mode": {
    "name": "ipython",
    "version": 3
   },
   "file_extension": ".py",
   "mimetype": "text/x-python",
   "name": "python",
   "nbconvert_exporter": "python",
   "pygments_lexer": "ipython3",
   "version": "3.9.13"
  }
 },
 "nbformat": 4,
 "nbformat_minor": 5
}
